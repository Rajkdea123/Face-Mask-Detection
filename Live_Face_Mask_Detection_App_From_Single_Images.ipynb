{
  "cells": [
    {
      "cell_type": "markdown",
      "metadata": {
        "id": "view-in-github",
        "colab_type": "text"
      },
      "source": [
        "<a href=\"https://colab.research.google.com/github/Rajkdea123/Face-Mask-Detection/blob/main/Live_Face_Mask_Detection_App_From_Single_Images.ipynb\" target=\"_parent\"><img src=\"https://colab.research.google.com/assets/colab-badge.svg\" alt=\"Open In Colab\"/></a>"
      ]
    },
    {
      "cell_type": "code",
      "execution_count": null,
      "metadata": {
        "colab": {
          "background_save": true
        },
        "id": "Yw7gV37AGa74"
      },
      "outputs": [],
      "source": [
        "import cv2\n",
        "import os\n",
        "from tensorflow.keras.models import load_model\n",
        "from tensorflow.keras.preprocessing.image import load_img, img_to_array\n",
        "import numpy as np\n",
        "from google.colab.patches import cv2_imshow\n",
        "\n",
        "# Load the pre-trained model\n",
        "model = load_model('/content/drive/MyDrive/model/resnet.h5')\n",
        "\n",
        "# Image dimensions expected by the model\n",
        "img_width, img_height = 200, 200\n",
        "\n",
        "# Load the Cascade face classifier\n",
        "face_cascade = cv2.CascadeClassifier(\"/content/drive/MyDrive/live mask detection app/haarcascade_frontalface_default.xml\")\n",
        "\n",
        "# Font parameters for text\n",
        "font = cv2.FONT_HERSHEY_SIMPLEX\n",
        "font_scale = 1\n",
        "color = (255, 0, 0)\n",
        "thickness = 2\n",
        "\n",
        "# Load the color image\n",
        "color_img = cv2.imread('/content/drive/MyDrive/live mask detection app/images/active-attractive-beautiful-1001850.jpg')\n",
        "\n",
        "# Convert the image to grayscale\n",
        "gray_img = cv2.cvtColor(color_img, cv2.COLOR_BGR2GRAY)\n",
        "\n",
        "# Detect faces in the grayscale image\n",
        "faces = face_cascade.detectMultiScale(gray_img, 1.1, 6)\n",
        "\n",
        "# Process each detected face\n",
        "for i, (x, y, w, h) in enumerate(faces):\n",
        "    org = (x - 10, y - 10)\n",
        "    color_face = color_img[y:y+h, x:x+w]  # Extract color face\n",
        "    face_path = '/content/drive/MyDrive/live mask detection app/images/%dface.jpg' % (i + 1)\n",
        "\n",
        "    # Save face image\n",
        "    if cv2.imwrite(face_path, color_face):\n",
        "        try:\n",
        "            # Load face image for prediction\n",
        "            img = load_img(face_path, target_size=(img_width, img_height))\n",
        "            img = img_to_array(img) / 255\n",
        "            img = np.expand_dims(img, axis=0)\n",
        "            pred_prob = model.predict(img)\n",
        "            pred = np.argmax(pred_prob)\n",
        "\n",
        "            if pred == 0:\n",
        "                print(\"User with mask - prediction =\", pred_prob[0][0])\n",
        "                class_label = \"Mask\"\n",
        "                color = (255, 0, 0)\n",
        "                cv2.imwrite('faces/with_mask/%dface.jpg' % (i + 1), color_face)\n",
        "                cv2.rectangle(color_img, (x, y), (x + w, y + h), color, thickness)\n",
        "                cv2.putText(color_img, class_label, org, font, font_scale, color, thickness)\n",
        "            else:\n",
        "                print('User not wearing mask - probability =', pred_prob[0][1])\n",
        "                class_label = \"No Mask\"\n",
        "                color = (0, 255, 0)\n",
        "                cv2.imwrite('faces/without_mask/%dface.jpg' % (i + 1), color_face)\n",
        "                cv2.rectangle(color_img, (x, y), (x + w, y + h), color, thickness)\n",
        "                cv2.putText(color_img, class_label, org, font, font_scale, color, thickness)\n",
        "\n",
        "        except Exception as e:\n",
        "            print(f\"Error processing face {i + 1}: {e}\")\n",
        "    else:\n",
        "        print(f\"Failed to save face {i + 1} image\")\n",
        "\n",
        "# Display the color image with rectangles and labels\n",
        "cv2_imshow(color_img)\n"
      ]
    },
    {
      "cell_type": "code",
      "execution_count": null,
      "metadata": {
        "id": "iE3hlzTHKcbr"
      },
      "outputs": [],
      "source": []
    }
  ],
  "metadata": {
    "colab": {
      "provenance": [],
      "mount_file_id": "1DG9-dPXqn0O4QSSJvul4K1ev0_mJZpvN",
      "authorship_tag": "ABX9TyMs+3w42IoYLlguZCsmGbhh",
      "include_colab_link": true
    },
    "kernelspec": {
      "display_name": "Python 3",
      "name": "python3"
    },
    "language_info": {
      "name": "python"
    }
  },
  "nbformat": 4,
  "nbformat_minor": 0
}